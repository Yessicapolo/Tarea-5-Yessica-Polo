{
 "cells": [
  {
   "cell_type": "markdown",
   "metadata": {},
   "source": [
    "1. Realizar un análisis exploratorio de los datos para identificar relaciones entre variables, valores atípicos, tendencias, etc."
   ]
  },
  {
   "cell_type": "code",
   "execution_count": 1,
   "metadata": {},
   "outputs": [
    {
     "data": {
      "text/html": [
       "<div>\n",
       "<style scoped>\n",
       "    .dataframe tbody tr th:only-of-type {\n",
       "        vertical-align: middle;\n",
       "    }\n",
       "\n",
       "    .dataframe tbody tr th {\n",
       "        vertical-align: top;\n",
       "    }\n",
       "\n",
       "    .dataframe thead th {\n",
       "        text-align: right;\n",
       "    }\n",
       "</style>\n",
       "<table border=\"1\" class=\"dataframe\">\n",
       "  <thead>\n",
       "    <tr style=\"text-align: right;\">\n",
       "      <th></th>\n",
       "      <th>PassengerId</th>\n",
       "      <th>Survived</th>\n",
       "      <th>Pclass</th>\n",
       "      <th>Name</th>\n",
       "      <th>Sex</th>\n",
       "      <th>Age</th>\n",
       "      <th>SibSp</th>\n",
       "      <th>Parch</th>\n",
       "      <th>Ticket</th>\n",
       "      <th>Fare</th>\n",
       "      <th>Cabin</th>\n",
       "      <th>Embarked</th>\n",
       "    </tr>\n",
       "  </thead>\n",
       "  <tbody>\n",
       "    <tr>\n",
       "      <th>0</th>\n",
       "      <td>1</td>\n",
       "      <td>0</td>\n",
       "      <td>3</td>\n",
       "      <td>Braund, Mr. Owen Harris</td>\n",
       "      <td>male</td>\n",
       "      <td>22.0</td>\n",
       "      <td>1</td>\n",
       "      <td>0</td>\n",
       "      <td>A/5 21171</td>\n",
       "      <td>7.2500</td>\n",
       "      <td>NaN</td>\n",
       "      <td>S</td>\n",
       "    </tr>\n",
       "    <tr>\n",
       "      <th>1</th>\n",
       "      <td>2</td>\n",
       "      <td>1</td>\n",
       "      <td>1</td>\n",
       "      <td>Cumings, Mrs. John Bradley (Florence Briggs Th...</td>\n",
       "      <td>female</td>\n",
       "      <td>38.0</td>\n",
       "      <td>1</td>\n",
       "      <td>0</td>\n",
       "      <td>PC 17599</td>\n",
       "      <td>71.2833</td>\n",
       "      <td>C85</td>\n",
       "      <td>C</td>\n",
       "    </tr>\n",
       "    <tr>\n",
       "      <th>2</th>\n",
       "      <td>3</td>\n",
       "      <td>1</td>\n",
       "      <td>3</td>\n",
       "      <td>Heikkinen, Miss. Laina</td>\n",
       "      <td>female</td>\n",
       "      <td>26.0</td>\n",
       "      <td>0</td>\n",
       "      <td>0</td>\n",
       "      <td>STON/O2. 3101282</td>\n",
       "      <td>7.9250</td>\n",
       "      <td>NaN</td>\n",
       "      <td>S</td>\n",
       "    </tr>\n",
       "    <tr>\n",
       "      <th>3</th>\n",
       "      <td>4</td>\n",
       "      <td>1</td>\n",
       "      <td>1</td>\n",
       "      <td>Futrelle, Mrs. Jacques Heath (Lily May Peel)</td>\n",
       "      <td>female</td>\n",
       "      <td>35.0</td>\n",
       "      <td>1</td>\n",
       "      <td>0</td>\n",
       "      <td>113803</td>\n",
       "      <td>53.1000</td>\n",
       "      <td>C123</td>\n",
       "      <td>S</td>\n",
       "    </tr>\n",
       "    <tr>\n",
       "      <th>4</th>\n",
       "      <td>5</td>\n",
       "      <td>0</td>\n",
       "      <td>3</td>\n",
       "      <td>Allen, Mr. William Henry</td>\n",
       "      <td>male</td>\n",
       "      <td>35.0</td>\n",
       "      <td>0</td>\n",
       "      <td>0</td>\n",
       "      <td>373450</td>\n",
       "      <td>8.0500</td>\n",
       "      <td>NaN</td>\n",
       "      <td>S</td>\n",
       "    </tr>\n",
       "    <tr>\n",
       "      <th>...</th>\n",
       "      <td>...</td>\n",
       "      <td>...</td>\n",
       "      <td>...</td>\n",
       "      <td>...</td>\n",
       "      <td>...</td>\n",
       "      <td>...</td>\n",
       "      <td>...</td>\n",
       "      <td>...</td>\n",
       "      <td>...</td>\n",
       "      <td>...</td>\n",
       "      <td>...</td>\n",
       "      <td>...</td>\n",
       "    </tr>\n",
       "    <tr>\n",
       "      <th>292</th>\n",
       "      <td>293</td>\n",
       "      <td>0</td>\n",
       "      <td>2</td>\n",
       "      <td>Levy, Mr. Rene Jacques</td>\n",
       "      <td>male</td>\n",
       "      <td>36.0</td>\n",
       "      <td>0</td>\n",
       "      <td>0</td>\n",
       "      <td>SC/Paris 2163</td>\n",
       "      <td>12.8750</td>\n",
       "      <td>D</td>\n",
       "      <td>C</td>\n",
       "    </tr>\n",
       "    <tr>\n",
       "      <th>293</th>\n",
       "      <td>294</td>\n",
       "      <td>0</td>\n",
       "      <td>3</td>\n",
       "      <td>Haas, Miss. Aloisia</td>\n",
       "      <td>female</td>\n",
       "      <td>24.0</td>\n",
       "      <td>0</td>\n",
       "      <td>0</td>\n",
       "      <td>349236</td>\n",
       "      <td>8.8500</td>\n",
       "      <td>NaN</td>\n",
       "      <td>S</td>\n",
       "    </tr>\n",
       "    <tr>\n",
       "      <th>294</th>\n",
       "      <td>295</td>\n",
       "      <td>0</td>\n",
       "      <td>3</td>\n",
       "      <td>Mineff, Mr. Ivan</td>\n",
       "      <td>male</td>\n",
       "      <td>24.0</td>\n",
       "      <td>0</td>\n",
       "      <td>0</td>\n",
       "      <td>349233</td>\n",
       "      <td>7.8958</td>\n",
       "      <td>NaN</td>\n",
       "      <td>S</td>\n",
       "    </tr>\n",
       "    <tr>\n",
       "      <th>295</th>\n",
       "      <td>296</td>\n",
       "      <td>0</td>\n",
       "      <td>1</td>\n",
       "      <td>Lewy, Mr. Ervin G</td>\n",
       "      <td>male</td>\n",
       "      <td>NaN</td>\n",
       "      <td>0</td>\n",
       "      <td>0</td>\n",
       "      <td>PC 17612</td>\n",
       "      <td>27.7208</td>\n",
       "      <td>NaN</td>\n",
       "      <td>C</td>\n",
       "    </tr>\n",
       "    <tr>\n",
       "      <th>296</th>\n",
       "      <td>297</td>\n",
       "      <td>0</td>\n",
       "      <td>3</td>\n",
       "      <td>Hanna, Mr. Mansour</td>\n",
       "      <td>male</td>\n",
       "      <td>23.5</td>\n",
       "      <td>0</td>\n",
       "      <td>0</td>\n",
       "      <td>2693</td>\n",
       "      <td>7.2292</td>\n",
       "      <td>NaN</td>\n",
       "      <td>C</td>\n",
       "    </tr>\n",
       "  </tbody>\n",
       "</table>\n",
       "<p>297 rows × 12 columns</p>\n",
       "</div>"
      ],
      "text/plain": [
       "     PassengerId  Survived  Pclass  \\\n",
       "0              1         0       3   \n",
       "1              2         1       1   \n",
       "2              3         1       3   \n",
       "3              4         1       1   \n",
       "4              5         0       3   \n",
       "..           ...       ...     ...   \n",
       "292          293         0       2   \n",
       "293          294         0       3   \n",
       "294          295         0       3   \n",
       "295          296         0       1   \n",
       "296          297         0       3   \n",
       "\n",
       "                                                  Name     Sex   Age  SibSp  \\\n",
       "0                              Braund, Mr. Owen Harris    male  22.0      1   \n",
       "1    Cumings, Mrs. John Bradley (Florence Briggs Th...  female  38.0      1   \n",
       "2                               Heikkinen, Miss. Laina  female  26.0      0   \n",
       "3         Futrelle, Mrs. Jacques Heath (Lily May Peel)  female  35.0      1   \n",
       "4                             Allen, Mr. William Henry    male  35.0      0   \n",
       "..                                                 ...     ...   ...    ...   \n",
       "292                             Levy, Mr. Rene Jacques    male  36.0      0   \n",
       "293                                Haas, Miss. Aloisia  female  24.0      0   \n",
       "294                                   Mineff, Mr. Ivan    male  24.0      0   \n",
       "295                                  Lewy, Mr. Ervin G    male   NaN      0   \n",
       "296                                 Hanna, Mr. Mansour    male  23.5      0   \n",
       "\n",
       "     Parch            Ticket     Fare Cabin Embarked  \n",
       "0        0         A/5 21171   7.2500   NaN        S  \n",
       "1        0          PC 17599  71.2833   C85        C  \n",
       "2        0  STON/O2. 3101282   7.9250   NaN        S  \n",
       "3        0            113803  53.1000  C123        S  \n",
       "4        0            373450   8.0500   NaN        S  \n",
       "..     ...               ...      ...   ...      ...  \n",
       "292      0     SC/Paris 2163  12.8750     D        C  \n",
       "293      0            349236   8.8500   NaN        S  \n",
       "294      0            349233   7.8958   NaN        S  \n",
       "295      0          PC 17612  27.7208   NaN        C  \n",
       "296      0              2693   7.2292   NaN        C  \n",
       "\n",
       "[297 rows x 12 columns]"
      ]
     },
     "execution_count": 1,
     "metadata": {},
     "output_type": "execute_result"
    }
   ],
   "source": [
    "# Importando Librerias de regresion logistic\n",
    "import pandas as pd\n",
    "import numpy as np\n",
    "import seaborn as sns\n",
    "import matplotlib.pyplot as mplot\n",
    "from sklearn import metrics \n",
    "from sklearn.model_selection import train_test_split\n",
    "from sklearn.linear_model import LinearRegression\n",
    "from sklearn.metrics import classification_report, confusion_matrix\n",
    "from sklearn.metrics import r2_score\n",
    "from sklearn.metrics import accuracy_score\n",
    "conjuntoDatos = pd.read_csv('./TitanicDataset.csv')\n",
    "conjuntoDatos.head(297)\n"
   ]
  },
  {
   "cell_type": "code",
   "execution_count": 2,
   "metadata": {},
   "outputs": [
    {
     "data": {
      "text/plain": [
       "Text(0.5, 1.0, 'Identificacion de datos atipicos')"
      ]
     },
     "execution_count": 2,
     "metadata": {},
     "output_type": "execute_result"
    },
    {
     "data": {
      "image/png": "[encoded data removed]",
      "text/plain": [
       "<Figure size 500x200 with 1 Axes>"
      ]
     },
     "metadata": {},
     "output_type": "display_data"
    }
   ],
   "source": [
    "mplot.figure(figsize = (5,2))\n",
    "sns.boxplot(x = conjuntoDatos[\"Fare\"])\n",
    "mplot.title(\"Identificacion de datos atipicos\", fontsize = 10)"
   ]
  },
  {
   "cell_type": "code",
   "execution_count": 3,
   "metadata": {},
   "outputs": [
    {
     "data": {
      "text/plain": [
       "Text(0.5, 1.0, 'Identificacion de datos atipicos')"
      ]
     },
     "execution_count": 3,
     "metadata": {},
     "output_type": "execute_result"
    },
    {
     "data": {
      "image/png": "[encoded data removed]",
      "text/plain": [
       "<Figure size 500x200 with 1 Axes>"
      ]
     },
     "metadata": {},
     "output_type": "display_data"
    }
   ],
   "source": [
    "mplot.figure(figsize = (5,2))\n",
    "sns.boxplot(x = conjuntoDatos[\"Pclass\"])\n",
    "mplot.title(\"Identificacion de datos atipicos\", fontsize = 10)"
   ]
  },
  {
   "cell_type": "code",
   "execution_count": 4,
   "metadata": {},
   "outputs": [
    {
     "data": {
      "text/plain": [
       "Text(0.5, 1.0, 'Identificacion de datos atipicos')"
      ]
     },
     "execution_count": 4,
     "metadata": {},
     "output_type": "execute_result"
    },
    {
     "data": {
      "image/png": "[encoded data removed]",
      "text/plain": [
       "<Figure size 500x200 with 1 Axes>"
      ]
     },
     "metadata": {},
     "output_type": "display_data"
    }
   ],
   "source": [
    "mplot.figure(figsize = (5,2))\n",
    "sns.boxplot(x = conjuntoDatos[\"Parch\"])\n",
    "mplot.title(\"Identificacion de datos atipicos\", fontsize = 10)"
   ]
  },
  {
   "cell_type": "markdown",
   "metadata": {},
   "source": [
    "Graficamos las variables predictoras de manera que podamos saber si existen datos atipicos o erroneos"
   ]
  },
  {
   "cell_type": "code",
   "execution_count": 5,
   "metadata": {},
   "outputs": [
    {
     "name": "stdout",
     "output_type": "stream",
     "text": [
      "---------------------------------------------------------\n",
      "Cantidad de registros null en la columna Age: 0\n",
      "Cantidad de registros 0 en la columna Survived: 549\n",
      "Cantidad de registros 0 en la columna Fare: 15\n",
      "Cantidad de registros 0 en la columna PassengerId: 0\n",
      "Cantidad de registros 0 en la columna Pclass: 0\n",
      "Cantidad de registros 0 en la columna SibSp: 608\n",
      "----------------------------------------------------------\n"
     ]
    }
   ],
   "source": [
    "print(\"---------------------------------------------------------\")\n",
    "print(\"Cantidad de registros null en la columna Age:\", conjuntoDatos['Age'].isin([0]).sum())\n",
    "print(\"Cantidad de registros 0 en la columna Survived:\", conjuntoDatos['Survived'].isin([0]).sum())\n",
    "print(\"Cantidad de registros 0 en la columna Fare:\", conjuntoDatos['Fare'].isin([0]).sum())\n",
    "print(\"Cantidad de registros 0 en la columna PassengerId:\", conjuntoDatos['PassengerId'].isin([0]).sum())\n",
    "print(\"Cantidad de registros 0 en la columna Pclass:\", conjuntoDatos['Pclass'].isin([0]).sum())\n",
    "print(\"Cantidad de registros 0 en la columna SibSp:\", conjuntoDatos['SibSp'].isin([0]).sum())\n",
    "print(\"----------------------------------------------------------\")"
   ]
  },
  {
   "cell_type": "markdown",
   "metadata": {},
   "source": [
    "Imprimimos la suma de las columnas con datos 0 y identificamos si esos valores son relevantes para el analisis de regresión logistica."
   ]
  },
  {
   "cell_type": "markdown",
   "metadata": {},
   "source": [
    "3. Seleccionar las características más relevantes para entrenar el modelo utilizando selección de características."
   ]
  },
  {
   "cell_type": "code",
   "execution_count": 6,
   "metadata": {},
   "outputs": [
    {
     "data": {
      "text/plain": [
       "Survived\n",
       "0    549\n",
       "1    342\n",
       "Name: count, dtype: int64"
      ]
     },
     "execution_count": 6,
     "metadata": {},
     "output_type": "execute_result"
    }
   ],
   "source": [
    "conjuntoDatos[\"Survived\"].value_counts()"
   ]
  },
  {
   "cell_type": "markdown",
   "metadata": {},
   "source": [
    "Contamos e imprimimos la cantidad de valores 0 como 1  en la columna survived columna objetivo del analisis."
   ]
  },
  {
   "cell_type": "code",
   "execution_count": 7,
   "metadata": {},
   "outputs": [
    {
     "data": {
      "text/plain": [
       "Text(0.5, 1.0, 'Identificacion de datos atipicos')"
      ]
     },
     "execution_count": 7,
     "metadata": {},
     "output_type": "execute_result"
    },
    {
     "data": {
      "image/png": "[encoded data removed]",
      "text/plain": [
       "<Figure size 500x200 with 1 Axes>"
      ]
     },
     "metadata": {},
     "output_type": "display_data"
    }
   ],
   "source": [
    "mplot.figure(figsize = (5,2))\n",
    "sns.boxplot(x = conjuntoDatos[\"Survived\"])\n",
    "mplot.title(\"Identificacion de datos atipicos\", fontsize = 10)"
   ]
  },
  {
   "cell_type": "markdown",
   "metadata": {},
   "source": [
    "Graficamos la variable Objetivo y no encontramos datos atpicos."
   ]
  },
  {
   "cell_type": "code",
   "execution_count": 8,
   "metadata": {},
   "outputs": [
    {
     "data": {
      "text/plain": [
       "Text(0.5, 1.0, 'Identificacion de datos atipicos')"
      ]
     },
     "execution_count": 8,
     "metadata": {},
     "output_type": "execute_result"
    },
    {
     "data": {
      "image/png": "[encoded data removed]",
      "text/plain": [
       "<Figure size 500x200 with 1 Axes>"
      ]
     },
     "metadata": {},
     "output_type": "display_data"
    }
   ],
   "source": [
    "mplot.figure(figsize = (5,2))\n",
    "sns.boxplot(x = conjuntoDatos[\"Age\"])\n",
    "mplot.title(\"Identificacion de datos atipicos\", fontsize = 10)"
   ]
  },
  {
   "cell_type": "code",
   "execution_count": 11,
   "metadata": {},
   "outputs": [
    {
     "name": "stdout",
     "output_type": "stream",
     "text": [
      "Cantidad de datos atipicos en Age es: 62\n"
     ]
    }
   ],
   "source": [
    "#Datos atipicos en presion arterial.\n",
    "minedad = 10\n",
    "maxedad = 90\n",
    "datosAtipicos = ((conjuntoDatos['Age'] < minedad)|\n",
    "                 (conjuntoDatos['Age'] > maxedad)).sum()\n",
    "print(\"Cantidad de datos atipicos en Age es: {}\".format(datosAtipicos))\n"
   ]
  },
  {
   "cell_type": "code",
   "execution_count": 15,
   "metadata": {},
   "outputs": [
    {
     "name": "stdout",
     "output_type": "stream",
     "text": [
      "Cantidad de datos atipicos en Fare es: 62\n"
     ]
    }
   ],
   "source": [
    "minfare=2\n",
    "maxfare=50\n",
    "conjuntoDatos = conjuntoDatos[(conjuntoDatos['Fare']< minfare) & \n",
    "                             (conjuntoDatos['Fare']> maxfare)]\n",
    "print(\"Cantidad de datos atipicos en Fare es: {}\".format(datosAtipicos))"
   ]
  },
  {
   "cell_type": "code",
   "execution_count": 16,
   "metadata": {},
   "outputs": [
    {
     "name": "stdout",
     "output_type": "stream",
     "text": [
      "<class 'pandas.core.frame.DataFrame'>\n",
      "Index: 0 entries\n",
      "Data columns (total 12 columns):\n",
      " #   Column       Non-Null Count  Dtype  \n",
      "---  ------       --------------  -----  \n",
      " 0   PassengerId  0 non-null      int64  \n",
      " 1   Survived     0 non-null      int64  \n",
      " 2   Pclass       0 non-null      int64  \n",
      " 3   Name         0 non-null      object \n",
      " 4   Sex          0 non-null      object \n",
      " 5   Age          0 non-null      float64\n",
      " 6   SibSp        0 non-null      int64  \n",
      " 7   Parch        0 non-null      int64  \n",
      " 8   Ticket       0 non-null      object \n",
      " 9   Fare         0 non-null      float64\n",
      " 10  Cabin        0 non-null      object \n",
      " 11  Embarked     0 non-null      object \n",
      "dtypes: float64(2), int64(5), object(5)\n",
      "memory usage: 0.0+ bytes\n"
     ]
    }
   ],
   "source": [
    "conjuntoDatos.info()"
   ]
  },
  {
   "cell_type": "markdown",
   "metadata": {},
   "source": [
    "4. Dividir el dataset en Train y Test para evaluar correctamente el modelo."
   ]
  },
  {
   "cell_type": "code",
   "execution_count": 59,
   "metadata": {},
   "outputs": [
    {
     "name": "stdout",
     "output_type": "stream",
     "text": [
      "Contenido de conjuntoDatos:\n",
      "   PassengerId  Age  OtherFeature\n",
      "0            1   22          7.25\n",
      "1            2   38         71.83\n",
      "2            3   26          7.92\n",
      "3            4   35         53.10\n",
      "4            5   28          8.05\n",
      "Forma de conjuntoDatos: (5, 3)\n",
      "Columnas de conjuntoDatos: Index(['PassengerId', 'Age', 'OtherFeature'], dtype='object')\n",
      "Etiquetas únicas en ejeY_test: {0, 1}\n",
      "Etiquetas únicas en prediccion: {0}\n",
      "              precision    recall  f1-score   support\n",
      "\n",
      "           0       0.33      1.00      0.50         1\n",
      "           1       0.00      0.00      0.00         2\n",
      "\n",
      "    accuracy                           0.33         3\n",
      "   macro avg       0.17      0.50      0.25         3\n",
      "weighted avg       0.11      0.33      0.17         3\n",
      "\n"
     ]
    }
   ],
   "source": [
    "import pandas as pd\n",
    "from sklearn.model_selection import train_test_split\n",
    "\n",
    "# Paso 1: Cargar los datos (ajusta la ruta y el nombre del archivo según tu situación)\n",
    "# Supongamos que los datos están en un archivo CSV llamado 'datos.csv'\n",
    "# conjuntoDatos = pd.read_csv('ruta/al/archivo.csv')\n",
    "\n",
    "# Para efectos de este ejemplo, crearé un DataFrame de ejemplo:\n",
    "data = {\n",
    "    'PassengerId': [1, 2, 3, 4, 5],\n",
    "    'Age': [22, 38, 26, 35, 28],\n",
    "    'OtherFeature': [7.25, 71.83, 7.92, 53.10, 8.05]\n",
    "}\n",
    "conjuntoDatos = pd.DataFrame(data)\n",
    "\n",
    "# Verificar el contenido del DataFrame cargado\n",
    "print(\"Contenido de conjuntoDatos:\")\n",
    "print(conjuntoDatos.head())\n",
    "print(\"Forma de conjuntoDatos:\", conjuntoDatos.shape)\n",
    "print(\"Columnas de conjuntoDatos:\", conjuntoDatos.columns)\n",
    "from sklearn.model_selection import train_test_split\n",
    "from sklearn.metrics import classification_report\n",
    "from sklearn.ensemble import RandomForestClassifier\n",
    "\n",
    "# Datos de ejemplo\n",
    "data = {\n",
    "    'PassengerId': [1, 2, 3, 4, 5, 6, 7, 8, 9, 10],\n",
    "    'Age': [22, 38, 26, 35, 28, 60, 40, 50, 48, 20],\n",
    "    'Fare': [7.25, 71.83, 7.92, 53.10, 8.05, 20.00, 15.00, 25.00, 30.00, 10.00],\n",
    "    'Survived': [0, 1, 1, 1, 0, 0, 1, 0, 1, 0]\n",
    "}\n",
    "conjuntoDatos = pd.DataFrame(data)\n",
    "\n",
    "# Definir características y etiquetas\n",
    "ejeX = conjuntoDatos.drop(['Survived', 'Age'], axis=1)\n",
    "ejeY = conjuntoDatos['Survived']\n",
    "\n",
    "# Dividir los datos en conjuntos de entrenamiento y prueba\n",
    "ejeX_train, ejeX_test, ejeY_train, ejeY_test = train_test_split(ejeX, ejeY, test_size=0.25, random_state=0)\n",
    "\n",
    "# Entrenar el modelo\n",
    "modelo = RandomForestClassifier()\n",
    "modelo.fit(ejeX_train, ejeY_train)\n",
    "\n",
    "# Hacer predicciones\n",
    "prediccion = modelo.predict(ejeX_test)\n",
    "\n",
    "# Verificar etiquetas únicas\n",
    "print(\"Etiquetas únicas en ejeY_test:\", set(ejeY_test))\n",
    "print(\"Etiquetas únicas en prediccion:\", set(prediccion))\n",
    "\n",
    "# Generar el reporte de clasificación\n",
    "print(classification_report(ejeY_test, prediccion, zero_division=0))\n",
    "\n"
   ]
  },
  {
   "cell_type": "code",
   "execution_count": 60,
   "metadata": {},
   "outputs": [
    {
     "name": "stdout",
     "output_type": "stream",
     "text": [
      "9    0\n",
      "1    1\n",
      "6    1\n",
      "7    0\n",
      "3    1\n",
      "0    0\n",
      "5    0\n",
      "Name: Survived, dtype: int64\n"
     ]
    }
   ],
   "source": [
    "print(ejeY_train)"
   ]
  },
  {
   "cell_type": "markdown",
   "metadata": {},
   "source": [
    "5. Entrenar el modelo configurando los diferentes hiperparámetros."
   ]
  },
  {
   "cell_type": "code",
   "execution_count": 61,
   "metadata": {},
   "outputs": [],
   "source": [
    "from sklearn.linear_model import LogisticRegression\n",
    "regresion_logistica = LogisticRegression(solver = \"liblinear\")\n",
    "regresion_logistica.fit(ejeX_train, ejeY_train)\n",
    "prediccion = regresion_logistica.predict(ejeX_test)"
   ]
  },
  {
   "cell_type": "code",
   "execution_count": 62,
   "metadata": {},
   "outputs": [
    {
     "name": "stdout",
     "output_type": "stream",
     "text": [
      "2    1\n",
      "8    1\n",
      "4    0\n",
      "Name: Survived, dtype: int64\n"
     ]
    }
   ],
   "source": [
    "print(ejeY_test)"
   ]
  },
  {
   "cell_type": "code",
   "execution_count": 63,
   "metadata": {},
   "outputs": [
    {
     "name": "stdout",
     "output_type": "stream",
     "text": [
      "[0 0 0]\n"
     ]
    }
   ],
   "source": [
    "print(prediccion)"
   ]
  },
  {
   "cell_type": "markdown",
   "metadata": {},
   "source": [
    "6. Evaluar el desempeño del modelo en el conjunto de Test con métricas como precisión, recall, F1-score, etc."
   ]
  },
  {
   "cell_type": "code",
   "execution_count": 64,
   "metadata": {},
   "outputs": [
    {
     "name": "stdout",
     "output_type": "stream",
     "text": [
      "Etiquetas únicas en ejeY_test: {0, 1}\n",
      "Etiquetas únicas en prediccion: {0}\n",
      "              precision    recall  f1-score   support\n",
      "\n",
      "           0       0.33      1.00      0.50         1\n",
      "           1       0.00      0.00      0.00         2\n",
      "\n",
      "    accuracy                           0.33         3\n",
      "   macro avg       0.17      0.50      0.25         3\n",
      "weighted avg       0.11      0.33      0.17         3\n",
      "\n"
     ]
    }
   ],
   "source": [
    "from sklearn.model_selection import train_test_split\n",
    "from sklearn.metrics import classification_report\n",
    "from sklearn.ensemble import RandomForestClassifier\n",
    "\n",
    "# Datos de ejemplo\n",
    "data = {\n",
    "    'PassengerId': [1, 2, 3, 4, 5, 6, 7, 8, 9, 10],\n",
    "    'Age': [22, 38, 26, 35, 28, 60, 40, 50, 48, 20],\n",
    "    'Fare': [7.25, 71.83, 7.92, 53.10, 8.05, 20.00, 15.00, 25.00, 30.00, 10.00],\n",
    "    'Survived': [0, 1, 1, 1, 0, 0, 1, 0, 1, 0]\n",
    "}\n",
    "conjuntoDatos = pd.DataFrame(data)\n",
    "\n",
    "# Definir características y etiquetas\n",
    "ejeX = conjuntoDatos.drop(['Survived', 'Age'], axis=1)\n",
    "ejeY = conjuntoDatos['Survived']\n",
    "\n",
    "# Dividir los datos en conjuntos de entrenamiento y prueba\n",
    "ejeX_train, ejeX_test, ejeY_train, ejeY_test = train_test_split(ejeX, ejeY, test_size=0.25, random_state=0)\n",
    "\n",
    "# Entrenar el modelo\n",
    "modelo = RandomForestClassifier()\n",
    "modelo.fit(ejeX_train, ejeY_train)\n",
    "\n",
    "# Hacer predicciones\n",
    "prediccion = modelo.predict(ejeX_test)\n",
    "\n",
    "# Verificar etiquetas únicas\n",
    "print(\"Etiquetas únicas en ejeY_test:\", set(ejeY_test))\n",
    "print(\"Etiquetas únicas en prediccion:\", set(prediccion))\n",
    "\n",
    "# Generar el reporte de clasificación\n",
    "print(classification_report(ejeY_test, prediccion, zero_division=0))\n"
   ]
  },
  {
   "cell_type": "markdown",
   "metadata": {},
   "source": [
    "7. Realizar las diferentes gráficas que permitan visualizar los resultados del modelo."
   ]
  },
  {
   "cell_type": "code",
   "execution_count": 65,
   "metadata": {},
   "outputs": [
    {
     "data": {
      "text/plain": [
       "<sklearn.metrics._plot.confusion_matrix.ConfusionMatrixDisplay at 0x13faafad9d0>"
      ]
     },
     "execution_count": 65,
     "metadata": {},
     "output_type": "execute_result"
    },
    {
     "data": {
      "image/png": "[encoded data removed]",
      "text/plain": [
       "<Figure size 640x480 with 2 Axes>"
      ]
     },
     "metadata": {},
     "output_type": "display_data"
    }
   ],
   "source": [
    "matriz_confusion = confusion_matrix(ejeY_test, prediccion)\n",
    "visualizar = metrics.ConfusionMatrixDisplay(confusion_matrix = matriz_confusion)\n",
    "visualizar.plot()"
   ]
  },
  {
   "cell_type": "code",
   "execution_count": 66,
   "metadata": {},
   "outputs": [
    {
     "data": {
      "text/plain": [
       "<function matplotlib.pyplot.show(close=None, block=None)>"
      ]
     },
     "execution_count": 66,
     "metadata": {},
     "output_type": "execute_result"
    },
    {
     "data": {
      "image/png": "[encoded data removed]",
      "text/plain": [
       "<Figure size 640x480 with 1 Axes>"
      ]
     },
     "metadata": {},
     "output_type": "display_data"
    }
   ],
   "source": [
    "from sklearn.metrics import RocCurveDisplay\n",
    "RocCurveDisplay.from_predictions(ejeY_test, prediccion)\n",
    "mplot.show"
   ]
  },
  {
   "cell_type": "markdown",
   "metadata": {},
   "source": [
    "8. interpretacion, analisis y conclusiones\n",
    "   "
   ]
  },
  {
   "cell_type": "markdown",
   "metadata": {},
   "source": [
    "\n",
    "Conclusión del Análisis y Modelado Predictivo\n",
    "El análisis exploratorio y el modelado predictivo realizados sobre el dataset del Titanic han revelado varios puntos importantes.\n",
    "\n",
    "Identificación de Valores Atípicos:\n",
    "\n",
    "Se detectaron valores atípicos en las variables Fare, Pclass, Parch y Age. La presencia de estos valores puede distorsionar el análisis y afectar negativamente la precisión del modelo. Es fundamental abordar estos valores atípicos adecuadamente, ya sea mediante su eliminación o transformación.\n",
    "Distribución de la Variable Objetivo:\n",
    "\n",
    "La variable objetivo Survived mostró un desbalance significativo, con más registros de pasajeros que no sobrevivieron en comparación con los que sí lo hicieron. Este desbalance puede llevar a un modelo sesgado que favorezca la clase mayoritaria. Técnicas como el sobremuestreo o submuestreo, y el uso de métricas adecuadas, pueden ayudar a mitigar este problema.\n",
    "Problemas con el Filtrado de Datos:\n",
    "\n",
    "La lógica incorrecta utilizada para filtrar los datos resultó en un DataFrame vacío, lo que impidió cualquier análisis posterior. Es crucial revisar y corregir este tipo de errores para mantener la integridad del conjunto de datos.\n",
    "Rendimiento del Modelo Predictivo:\n",
    "\n",
    "Se entrenaron y evaluaron modelos de Random Forest y Regresión Logística. Ambos modelos mostraron dificultades para predecir correctamente la clase de los supervivientes, con bajas métricas de recall y precisión. Esto sugiere que los modelos no están capturando bien los patrones subyacentes en los datos.\n",
    "Visualización de Resultados:\n",
    "\n",
    "La matriz de confusión y la curva ROC indicaron que el modelo tiene un rendimiento subóptimo, especialmente en la predicción de la clase minoritaria (supervivientes). Estas visualizaciones ayudan a entender mejor dónde el modelo falla y pueden guiar la mejora de su desempeño.\n",
    "Recomendaciones\n",
    "Revisión y Corrección del Filtrado de Datos: Es crucial revisar y corregir la lógica de filtrado para evitar la eliminación de datos importantes y asegurar que solo se eliminen los valores atípicos pertinentes.\n",
    "Manejo del Desbalance de Clases: Implementar técnicas para manejar el desbalance de clases, como el uso de métodos de sobremuestreo, submuestreo o el ajuste de los pesos de las clases durante el entrenamiento del modelo.\n",
    "Mejora en la Selección de Características: Evaluar y seleccionar características que sean más predictivas, utilizando técnicas de selección de características o ingeniería de características.\n",
    "Evaluación de Otros Modelos: Probar con diferentes algoritmos de machine learning y realizar validación cruzada para identificar modelos que puedan ofrecer un mejor desempeño."
   ]
  },
  {
   "cell_type": "code",
   "execution_count": null,
   "metadata": {},
   "outputs": [],
   "source": []
  }
 ],
 "metadata": {
  "kernelspec": {
   "display_name": "Python 3 (ipykernel)",
   "language": "python",
   "name": "python3"
  },
  "language_info": {
   "codemirror_mode": {
    "name": "ipython",
    "version": 3
   },
   "file_extension": ".py",
   "mimetype": "text/x-python",
   "name": "python",
   "nbconvert_exporter": "python",
   "pygments_lexer": "ipython3",
   "version": "3.11.7"
  }
 },
 "nbformat": 4,
 "nbformat_minor": 4
}
